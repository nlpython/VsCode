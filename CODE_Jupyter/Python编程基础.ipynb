{
 "cells": [
  {
   "cell_type": "markdown",
   "source": [
    "# Python编程基础"
   ],
   "metadata": {}
  },
  {
   "cell_type": "markdown",
   "source": [
    "# Python基础"
   ],
   "metadata": {}
  },
  {
   "cell_type": "markdown",
   "source": [
    "# hello world"
   ],
   "metadata": {}
  },
  {
   "cell_type": "code",
   "execution_count": 1,
   "source": [
    "print('hello world') #打印出：hello world\r\n",
    "print(\"hello world\") #打印出：hello world。单双引号输出相同。"
   ],
   "outputs": [
    {
     "output_type": "stream",
     "name": "stdout",
     "text": [
      "hello world\n",
      "hello world\n"
     ]
    }
   ],
   "metadata": {}
  },
  {
   "cell_type": "markdown",
   "source": [
    "# 数值"
   ],
   "metadata": {}
  },
  {
   "cell_type": "code",
   "execution_count": 2,
   "source": [
    "print(True+False)\t\t# 输出1，True默认为1，False为0   \r\n",
    "print(True or False)\t# 输出True，关键字or执行“或”操作\r\n",
    "print(5//2)\t\t\t# 输出2，//为取整运算符 \r\n",
    "print(5%2)\t\t\t# 输出1，%为取余运算符  \r\n",
    "print(3**4)   \t\t\t# 输出9，**表示乘方操作 ，pow()\r\n",
    "print(5+1.6+3) \t \t\t# 输出6.6，不同精度的类型的数字相加默认取高精度类型作为结果"
   ],
   "outputs": [
    {
     "output_type": "stream",
     "name": "stdout",
     "text": [
      "1\n",
      "True\n",
      "2\n",
      "1\n",
      "81\n",
      "9.6\n"
     ]
    }
   ],
   "metadata": {}
  },
  {
   "cell_type": "markdown",
   "source": [
    "# 字符串"
   ],
   "metadata": {}
  },
  {
   "cell_type": "code",
   "execution_count": 4,
   "source": [
    "S = 'python'\t\t\t\t\t\t\t# 给变量S赋值 python\r\n",
    "# len(obj): 返回对象的长度\r\n",
    "print(len(S)) \t\t\t\t\t\t\t# 输出6 \r\n",
    "print(S[0],S[1],S[-1]) \t\t\t\t# 输出pyn ，按照索引获取元素\r\n",
    "print(S+'1',S*2) \t\t\t\t\t\t# 输出python1 pythonpython：合并和重复\r\n"
   ],
   "outputs": [
    {
     "output_type": "stream",
     "name": "stdout",
     "text": [
      "6\n",
      "p y n\n",
      "python1 pythonpython\n"
     ]
    }
   ],
   "metadata": {}
  },
  {
   "cell_type": "code",
   "execution_count": 6,
   "source": [
    "print(S+'123')"
   ],
   "outputs": [
    {
     "output_type": "stream",
     "name": "stdout",
     "text": [
      "python123\n"
     ]
    }
   ],
   "metadata": {}
  },
  {
   "cell_type": "code",
   "execution_count": 7,
   "source": [
    "S = 'python'\t\t\t\t\t\t\t\t# 变量赋值\n",
    "S[0] = 'Z' \t\t\t\t\t\t\t\t# 程序异常\n",
    "print(S)\n",
    "\n"
   ],
   "outputs": [
    {
     "output_type": "error",
     "ename": "TypeError",
     "evalue": "'str' object does not support item assignment",
     "traceback": [
      "\u001b[1;31m---------------------------------------------------------------------------\u001b[0m",
      "\u001b[1;31mTypeError\u001b[0m                                 Traceback (most recent call last)",
      "\u001b[1;32m<ipython-input-7-59b0d0bde428>\u001b[0m in \u001b[0;36m<module>\u001b[1;34m\u001b[0m\n\u001b[0;32m      1\u001b[0m \u001b[0mS\u001b[0m \u001b[1;33m=\u001b[0m \u001b[1;34m'python'\u001b[0m                                                            \u001b[1;31m# 变量赋值\u001b[0m\u001b[1;33m\u001b[0m\u001b[1;33m\u001b[0m\u001b[0m\n\u001b[1;32m----> 2\u001b[1;33m \u001b[0mS\u001b[0m\u001b[1;33m[\u001b[0m\u001b[1;36m0\u001b[0m\u001b[1;33m]\u001b[0m \u001b[1;33m=\u001b[0m \u001b[1;34m'Z'\u001b[0m                                                              \u001b[1;31m# 程序异常\u001b[0m\u001b[1;33m\u001b[0m\u001b[1;33m\u001b[0m\u001b[0m\n\u001b[0m\u001b[0;32m      3\u001b[0m \u001b[0mprint\u001b[0m\u001b[1;33m(\u001b[0m\u001b[0mS\u001b[0m\u001b[1;33m)\u001b[0m\u001b[1;33m\u001b[0m\u001b[1;33m\u001b[0m\u001b[0m\n\u001b[0;32m      4\u001b[0m \u001b[1;33m\u001b[0m\u001b[0m\n",
      "\u001b[1;31mTypeError\u001b[0m: 'str' object does not support item assignment"
     ]
    }
   ],
   "metadata": {}
  },
  {
   "cell_type": "code",
   "execution_count": 5,
   "source": [
    "S1 ='Z'+S[1:]\t\t\t\t\t\t\t\t# 生成了新的字符串 Zython，并赋值给S1\n",
    "print(\"S:%s,S1:%s\"%(S,S1))\t\t\t\t# 输出S:python，S1:Zython"
   ],
   "outputs": [
    {
     "output_type": "stream",
     "name": "stdout",
     "text": [
      "S:python,S1:Zython\n"
     ]
    }
   ],
   "metadata": {}
  },
  {
   "cell_type": "code",
   "execution_count": 9,
   "source": [
    "S = \"python\"\t\t\t\t\t\t\t\t# 变量赋值\n",
    "# str.split(str=\"\", num=-1)：通过指定分隔符对字符串进行切片，如果参数 num 有指定值，则分隔 num+1 个子字符串,-1表示分割所有。\n",
    "print(S.split('t'))\t\t\t\t\t\t# 输出[‘pyt’,’on’]，根据h对字符串切割"
   ],
   "outputs": [
    {
     "output_type": "stream",
     "name": "stdout",
     "text": [
      "['py', 'hon']\n"
     ]
    }
   ],
   "metadata": {}
  },
  {
   "cell_type": "code",
   "execution_count": 16,
   "source": [
    "# str.replace(old, new[, max])：返回字符串中的 old（旧字符串） 替换成 new(新字符串)后生成的新字符串，如果指定第三个参数max，则替换不超过 max 次。\n",
    "print(S.replace('py','PY'))\t\t\t\t# Python，将字符串中的py替换为PY"
   ],
   "outputs": [
    {
     "output_type": "stream",
     "name": "stdout",
     "text": [
      "PYthon\n"
     ]
    }
   ],
   "metadata": {}
  },
  {
   "cell_type": "code",
   "execution_count": 17,
   "source": [
    "# str.upper()：返回小写字符转化为大写后的值。\n",
    "print(S.upper())\t\t\t\t\t\t\t# PYTHON\n",
    "# str.lower()：返回大写字符转化为小写后的值。\n",
    "print('PYTHON'.lower())\t\t\t\t\t# python，字符串转小写"
   ],
   "outputs": [
    {
     "output_type": "stream",
     "name": "stdout",
     "text": [
      "PYTHON\n",
      "python\n"
     ]
    }
   ],
   "metadata": {}
  },
  {
   "cell_type": "code",
   "execution_count": 11,
   "source": [
    "line='aa,bb,ccc,dd\\n'\t\t\t\t\t\t# \\n 为换行\n",
    "# str.join(sequence)：sequence：要连接的序列，返回指定字符连接序列中元素后生成的新字符串。\n",
    "print(','.join(['life', 'is' ,'short']))\t# 输出life is short，join拼接字符串\n",
    "#csv"
   ],
   "outputs": [
    {
     "output_type": "stream",
     "name": "stdout",
     "text": [
      "life,is,short\n"
     ]
    }
   ],
   "metadata": {}
  },
  {
   "cell_type": "code",
   "execution_count": 19,
   "source": [
    "hw12='%s %s %d' % ('hello','world',12) \t# 格式化字符串\n",
    "print(hw12)\t\t\t\t\t\t\t\t# 输出hello world 12"
   ],
   "outputs": [
    {
     "output_type": "stream",
     "name": "stdout",
     "text": [
      "hello world 12\n"
     ]
    }
   ],
   "metadata": {}
  },
  {
   "cell_type": "markdown",
   "source": [
    "# 列表\n",
    "\n",
    "有序的，允许重复元素\n"
   ],
   "metadata": {}
  },
  {
   "cell_type": "code",
   "execution_count": 13,
   "source": [
    "animals = ['cat', 'dog', 'monkey',123,56.02]\n",
    "# list.append(obj)：在列表末尾添加新的对象。\n",
    "animals.append('fish')\t\t\t# 追加元素\n",
    "print(animals)\t\t\t\t\t# 输出 ['cat', 'dog', 'monkey', ‘fish’]"
   ],
   "outputs": [
    {
     "output_type": "stream",
     "name": "stdout",
     "text": [
      "['cat', 'dog', 'monkey', 123, 56.02, 'fish']\n"
     ]
    }
   ],
   "metadata": {}
  },
  {
   "cell_type": "code",
   "execution_count": 14,
   "source": [
    "# list.remove(obj)：移除列表中某个值的第一个匹配项。\n",
    "animals.remove(123)\t\t\t# 删除元素fish\n",
    "print(animals)\t\t\t\t\t# 输出 ['cat', 'dog', 'monkey']"
   ],
   "outputs": [
    {
     "output_type": "stream",
     "name": "stdout",
     "text": [
      "['cat', 'dog', 'monkey', 56.02, 'fish']\n"
     ]
    }
   ],
   "metadata": {}
  },
  {
   "cell_type": "code",
   "execution_count": 16,
   "source": [
    "# list.insert(index, obj)：用于将指定对象插入列表的指定位置。index：插入位置\n",
    "animals.insert(1,'fish')\t\t\t# 在下标1的地方插入元素fish\n",
    "print(animals)\t\t\t\t\t# 输出 ['cat', ‘fish’, 'dog', 'monkey']"
   ],
   "outputs": [
    {
     "output_type": "stream",
     "name": "stdout",
     "text": [
      "['fish', 'fish', 'cat', 'dog', 'monkey', 56.02, 'fish']\n"
     ]
    }
   ],
   "metadata": {}
  },
  {
   "cell_type": "markdown",
   "source": [
    "##### Python是以值做内存管理  \"引用\"\n",
    "l1=[1,2,3,4,5]\n",
    "l2=l1\n",
    "l2.append(100)"
   ],
   "metadata": {}
  },
  {
   "cell_type": "code",
   "execution_count": 18,
   "source": [
    "# list.pop([index=-1])：要移除列表中对下标对应的元素（默认是最后一个）。Index：下标\n",
    "animals.pop(1)\t\t\t\t\t# 删除下标为1的元素\n",
    "print(animals)\t\t\t\t\t# 输出 ['cat', 'dog', 'monkey']"
   ],
   "outputs": [
    {
     "output_type": "stream",
     "name": "stdout",
     "text": [
      "['fish', 'dog', 'monkey', 56.02, 'fish']\n"
     ]
    }
   ],
   "metadata": {}
  },
  {
   "cell_type": "code",
   "execution_count": 12,
   "source": [
    "#遍历并获取元素和对应索引  \n",
    "# enumerate(sequence) ：将一个可遍历的数据对象组合为一个索引序列，同时列出数据和数据下标，一般用在 for 循环当中。\n",
    "for i in enumerate(animals): \n",
    "    print(i)\t\t\t\t\t\t# 元素下标和元素所组成的索引"
   ],
   "outputs": [
    {
     "output_type": "stream",
     "name": "stdout",
     "text": [
      "(0, 'cat')\n",
      "(1, 'dog')\n",
      "(2, 'monkey')\n"
     ]
    }
   ],
   "metadata": {}
  },
  {
   "cell_type": "code",
   "execution_count": 19,
   "source": [
    "#列表推导式\n",
    "squares = [x*2 for x in animals]\t# 批量生成符合规则的元素组成的列表\n",
    "print(squares)\t\t\t\t\t#['catcat ', 'dogdog ', 'monkeymonkey ']"
   ],
   "outputs": [
    {
     "output_type": "stream",
     "name": "stdout",
     "text": [
      "['fishfish', 'dogdog', 'monkeymonkey', 112.04, 'fishfish']\n"
     ]
    }
   ],
   "metadata": {}
  },
  {
   "cell_type": "code",
   "execution_count": 14,
   "source": [
    "list1 = [12,45,32,55]\n",
    "# list.sort(cmp=None, key=None, reverse=False)：cmp为可选参数, 如果指定了该参数，会使用该参数的方法进行排序。key是用来进行比较的元素。reverse为排序规则，False为升序。\n",
    "list1.sort()\t\t\t\t\t\t# 对列表进行排序，sorted()\n",
    "print(list1)\t\t\t\t\t\t# 输出[12,32,45,55]\n",
    "# list.reverse()：反向列表中元素。\n",
    "list1.reverse()\t\t\t\t\t# 对列表进行逆置\n",
    "print(list1)\t\t\t\t\t\t# 输出[55,45,32,12]"
   ],
   "outputs": [
    {
     "output_type": "stream",
     "name": "stdout",
     "text": [
      "[12, 32, 45, 55]\n",
      "[55, 45, 32, 12]\n"
     ]
    }
   ],
   "metadata": {}
  },
  {
   "cell_type": "markdown",
   "source": [
    "# 元组"
   ],
   "metadata": {}
  },
  {
   "cell_type": "code",
   "execution_count": 26,
   "source": [
    "T=(1,2,3)\t \t\t\t\t\t\t#创建元组\r\n",
    "print(T)"
   ],
   "outputs": [
    {
     "output_type": "stream",
     "name": "stdout",
     "text": [
      "(1, 2, 3)\n"
     ]
    }
   ],
   "metadata": {}
  },
  {
   "cell_type": "code",
   "execution_count": 27,
   "source": [
    "print(T+(4,5)) \t\t\t\t\t#元组合并，输出：(1, 2, 3, 4, 5)"
   ],
   "outputs": [
    {
     "output_type": "stream",
     "name": "stdout",
     "text": [
      "(1, 2, 3, 4, 5)\n"
     ]
    }
   ],
   "metadata": {}
  },
  {
   "cell_type": "code",
   "execution_count": 28,
   "source": [
    "t=(42,) \t\t\t\t\t\t\t#只有一个元素的元组，区别于数字\r\n",
    "print(t)"
   ],
   "outputs": [
    {
     "output_type": "stream",
     "name": "stdout",
     "text": [
      "(42,)\n"
     ]
    }
   ],
   "metadata": {}
  },
  {
   "cell_type": "code",
   "execution_count": 29,
   "source": [
    "tuple1 = (12,45,32,55,[1,0,3])\t# 创建元祖\t\t\t\t\t\t# (12,45,32,55,[2,0,3])\r\n",
    "print(tuple1)"
   ],
   "outputs": [
    {
     "output_type": "stream",
     "name": "stdout",
     "text": [
      "(12, 45, 32, 55, [1, 0, 3])\n"
     ]
    }
   ],
   "metadata": {}
  },
  {
   "cell_type": "code",
   "execution_count": 24,
   "source": [
    "tuple1[0] = \"good\"\t\t\t\t# 程序异常，元组的不可变性"
   ],
   "outputs": [
    {
     "output_type": "error",
     "ename": "TypeError",
     "evalue": "'tuple' object does not support item assignment",
     "traceback": [
      "\u001b[1;31m---------------------------------------------------------------------------\u001b[0m",
      "\u001b[1;31mTypeError\u001b[0m                                 Traceback (most recent call last)",
      "\u001b[1;32m<ipython-input-24-8ee9340aec71>\u001b[0m in \u001b[0;36m<module>\u001b[1;34m\u001b[0m\n\u001b[1;32m----> 1\u001b[1;33m \u001b[0mtuple1\u001b[0m\u001b[1;33m[\u001b[0m\u001b[1;36m0\u001b[0m\u001b[1;33m]\u001b[0m \u001b[1;33m=\u001b[0m \u001b[1;34m\"good\"\u001b[0m                              \u001b[1;31m# 程序异常，元组的不可变性\u001b[0m\u001b[1;33m\u001b[0m\u001b[1;33m\u001b[0m\u001b[0m\n\u001b[0m",
      "\u001b[1;31mTypeError\u001b[0m: 'tuple' object does not support item assignment"
     ]
    }
   ],
   "metadata": {}
  },
  {
   "cell_type": "code",
   "execution_count": 30,
   "source": [
    "tuple1[4][0] = 2\t\t\t\t\t# 元组中可变的元素是可以变得\r\n",
    "print(tuple1)"
   ],
   "outputs": [
    {
     "output_type": "stream",
     "name": "stdout",
     "text": [
      "(12, 45, 32, 55, [2, 0, 3])\n"
     ]
    }
   ],
   "metadata": {}
  },
  {
   "cell_type": "markdown",
   "source": [
    "# 字典"
   ],
   "metadata": {}
  },
  {
   "cell_type": "code",
   "execution_count": 20,
   "source": [
    "#字典是键值对的映射\r\n",
    "# 字典的三种赋值操作\r\n",
    "x = {'food':'Spam','quantity':4,'color':'pink'}\r\n",
    "X =dict(food='Spam',quantity=4, color='pink')\r\n",
    "x2 = dict([(\"food\", \"Spam\"),(\"quantity\", \"4\"),(\"color\",\"pink\")])\r\n",
    "print(x,X,x2)"
   ],
   "outputs": [
    {
     "output_type": "stream",
     "name": "stdout",
     "text": [
      "{'food': 'Spam', 'quantity': 4, 'color': 'pink'} {'food': 'Spam', 'quantity': 4, 'color': 'pink'} {'food': 'Spam', 'quantity': '4', 'color': 'pink'}\n"
     ]
    }
   ],
   "metadata": {}
  },
  {
   "cell_type": "code",
   "execution_count": 21,
   "source": [
    "# dict.copy()：拷贝数据\r\n",
    "d =x.copy()\r\n",
    "d['color'] = 'red'\r\n",
    "print(x)\t\t\t\t\t\t\t# {'food':'Spam','quantity':4,'color':'pink'} \r\n",
    "print(d)\t\t\t\t\t\t\t# {'food':'Spam','quantity':4,'color':'red'}"
   ],
   "outputs": [
    {
     "output_type": "stream",
     "name": "stdout",
     "text": [
      "{'food': 'Spam', 'quantity': 4, 'color': 'pink'}\n",
      "{'food': 'Spam', 'quantity': 4, 'color': 'red'}\n"
     ]
    }
   ],
   "metadata": {}
  },
  {
   "cell_type": "code",
   "execution_count": 22,
   "source": [
    "d =x\r\n",
    "d['color'] = 'red'\r\n",
    "print(x)\t\t\t\t\t\t\t# {'food':'Spam','quantity':4,'color':'pink'} \r\n",
    "print(d)"
   ],
   "outputs": [
    {
     "output_type": "stream",
     "name": "stdout",
     "text": [
      "{'food': 'Spam', 'quantity': 4, 'color': 'red'}\n",
      "{'food': 'Spam', 'quantity': 4, 'color': 'red'}\n"
     ]
    }
   ],
   "metadata": {}
  },
  {
   "cell_type": "code",
   "execution_count": 24,
   "source": [
    "#元素访问\r\n",
    "print(d['fooder']) \t\t\t\t\t# 得到错误信息"
   ],
   "outputs": [
    {
     "output_type": "error",
     "ename": "KeyError",
     "evalue": "'fooder'",
     "traceback": [
      "\u001b[1;31m---------------------------------------------------------------------------\u001b[0m",
      "\u001b[1;31mKeyError\u001b[0m                                  Traceback (most recent call last)",
      "\u001b[1;32m<ipython-input-24-3aacf867205e>\u001b[0m in \u001b[0;36m<module>\u001b[1;34m\u001b[0m\n\u001b[0;32m      1\u001b[0m \u001b[1;31m#元素访问\u001b[0m\u001b[1;33m\u001b[0m\u001b[1;33m\u001b[0m\u001b[1;33m\u001b[0m\u001b[0m\n\u001b[1;32m----> 2\u001b[1;33m \u001b[0mprint\u001b[0m\u001b[1;33m(\u001b[0m\u001b[0md\u001b[0m\u001b[1;33m[\u001b[0m\u001b[1;34m'fooder'\u001b[0m\u001b[1;33m]\u001b[0m\u001b[1;33m)\u001b[0m                                      \u001b[1;31m# 得到错误信息\u001b[0m\u001b[1;33m\u001b[0m\u001b[1;33m\u001b[0m\u001b[0m\n\u001b[0m",
      "\u001b[1;31mKeyError\u001b[0m: 'fooder'"
     ]
    }
   ],
   "metadata": {}
  },
  {
   "cell_type": "code",
   "execution_count": 36,
   "source": [
    "print(d.get('name')) \t\t\t\t# 输出None\r\n",
    "print(d.get('name','键值不存在！'))\t# 输出 键值不存在"
   ],
   "outputs": [
    {
     "output_type": "stream",
     "name": "stdout",
     "text": [
      "None\n",
      "键值不存在！\n"
     ]
    }
   ],
   "metadata": {}
  },
  {
   "cell_type": "code",
   "execution_count": 37,
   "source": [
    "print(d.keys()) \t\t\t\t\t# 输出dict_keys(['food', 'quantity', 'color'])\r\n",
    "print(d.values())\t\t\t\t\t# 输出dict_values(['Spam', 4, 'red'])\r\n",
    "print(d.items())\t\t\t\t\t\r\n",
    "# 输出 dict_items([('food', 'Spam'), ('quantity', 4), ('color', 'red')])"
   ],
   "outputs": [
    {
     "output_type": "stream",
     "name": "stdout",
     "text": [
      "dict_keys(['food', 'quantity', 'color'])\n",
      "dict_values(['Spam', 4, 'red'])\n",
      "dict_items([('food', 'Spam'), ('quantity', 4), ('color', 'red')])\n"
     ]
    }
   ],
   "metadata": {}
  },
  {
   "cell_type": "code",
   "execution_count": 38,
   "source": [
    "d.clear()\t\t\t\t\t\t\t# 清空字典中的所有数据\r\n",
    "print(d)\t\t\t\t\t\t\t# 输出 {}"
   ],
   "outputs": [
    {
     "output_type": "stream",
     "name": "stdout",
     "text": [
      "{}\n"
     ]
    }
   ],
   "metadata": {}
  },
  {
   "cell_type": "code",
   "execution_count": 39,
   "source": [
    "del(d)\t\t\t\t\t\t\t\t# 删除字典\r\n",
    "print(d)"
   ],
   "outputs": [
    {
     "output_type": "error",
     "ename": "NameError",
     "evalue": "name 'd' is not defined",
     "traceback": [
      "\u001b[1;31m---------------------------------------------------------------------------\u001b[0m",
      "\u001b[1;31mNameError\u001b[0m                                 Traceback (most recent call last)",
      "\u001b[1;32m<ipython-input-39-90774c38f205>\u001b[0m in \u001b[0;36m<module>\u001b[1;34m\u001b[0m\n\u001b[0;32m      1\u001b[0m \u001b[1;32mdel\u001b[0m\u001b[1;33m(\u001b[0m\u001b[0md\u001b[0m\u001b[1;33m)\u001b[0m                                                          \u001b[1;31m# 删除字典\u001b[0m\u001b[1;33m\u001b[0m\u001b[1;33m\u001b[0m\u001b[0m\n\u001b[1;32m----> 2\u001b[1;33m \u001b[0mprint\u001b[0m\u001b[1;33m(\u001b[0m\u001b[0md\u001b[0m\u001b[1;33m)\u001b[0m\u001b[1;33m\u001b[0m\u001b[1;33m\u001b[0m\u001b[0m\n\u001b[0m",
      "\u001b[1;31mNameError\u001b[0m: name 'd' is not defined"
     ]
    }
   ],
   "metadata": {}
  },
  {
   "cell_type": "markdown",
   "source": [
    "# 集合\n",
    "\n",
    "没有重复元素，无序\n",
    "\n",
    "对方法的引用：<对象>.<方法>"
   ],
   "metadata": {}
  },
  {
   "cell_type": "code",
   "execution_count": 40,
   "source": [
    "sample_set = {'Prince', 'Techs'}\r\n",
    "print('Data' in sample_set)   \t# 输出False，in的作用是检查集合中是否存在某一元素"
   ],
   "outputs": [
    {
     "output_type": "stream",
     "name": "stdout",
     "text": [
      "False\n"
     ]
    }
   ],
   "metadata": {}
  },
  {
   "cell_type": "code",
   "execution_count": 41,
   "source": [
    "# set.add(obj)：给集合添加元素，如果添加的元素在集合中已存在，则不执行任何操作。\r\n",
    "sample_set.add('Data')      \t\t# 向集合中增加元素Data\r\n",
    "print(sample_set)\t\t\t\t\t# 输出 {'Prince', 'Techs', 'Data'}\r\n",
    "print(len(sample_set))      \t \t# 输出3 "
   ],
   "outputs": [
    {
     "output_type": "stream",
     "name": "stdout",
     "text": [
      "{'Data', 'Prince', 'Techs'}\n",
      "3\n"
     ]
    }
   ],
   "metadata": {}
  },
  {
   "cell_type": "code",
   "execution_count": 42,
   "source": [
    "# set.remove(obj)：移除集合中的指定元素。\r\n",
    "sample_set.remove('Data')    \t\t# 删除元素Data  \r\n",
    "print(sample_set)\t\t\t\t\t# {'Prince', 'Techs'}"
   ],
   "outputs": [
    {
     "output_type": "stream",
     "name": "stdout",
     "text": [
      "{'Prince', 'Techs'}\n"
     ]
    }
   ],
   "metadata": {}
  },
  {
   "cell_type": "code",
   "execution_count": 43,
   "source": [
    "list2 = [1,3,1,5,3]\r\n",
    "print(list(set(list2)))\t\t\t# 输出 [1,3,5]，利用集合元素的唯一性进行列表去重\r\n",
    "#set()转换为集合类型   list()类型转换为列表类型，转换函数\r\n",
    "sample_set = frozenset(sample_set)# 不可变集合"
   ],
   "outputs": [
    {
     "output_type": "stream",
     "name": "stdout",
     "text": [
      "[1, 3, 5]\n"
     ]
    }
   ],
   "metadata": {}
  },
  {
   "cell_type": "markdown",
   "source": [
    "# 深拷贝和浅拷贝"
   ],
   "metadata": {}
  },
  {
   "cell_type": "code",
   "execution_count": 24,
   "source": [
    "import copy\r\n",
    "Dict1 = { 'name': 'lee', 'age':89, 'num':[1,2,8]}\t# 新建字典\r\n",
    "Dict_copy = Dict1.copy()\t\t\t# 浅拷贝\r\n",
    "Dict_dcopy = copy.deepcopy(Dict1)\t# 深拷贝\r\n",
    "Dict1['num'][1] = 6\t\t\t\t# 修改原数据中嵌套列表的值\r\n",
    "print('Dict1:'+str(Dict1)+\"\\n\",' Dict_copy:'+ str(Dict_copy)+\"\\n\",' Dict_dcopy:'+ str(Dict_dcopy))\r\n"
   ],
   "outputs": [
    {
     "output_type": "stream",
     "name": "stdout",
     "text": [
      "Dict1:{'name': 'lee', 'age': 89, 'num': [1, 6, 8]}\n",
      "  Dict_copy:{'name': 'lee', 'age': 89, 'num': [1, 6, 8]}\n",
      "  Dict_dcopy:{'name': 'lee', 'age': 89, 'num': [1, 2, 8]}\n"
     ]
    }
   ],
   "metadata": {}
  },
  {
   "cell_type": "markdown",
   "source": [
    "# ##分支if"
   ],
   "metadata": {}
  },
  {
   "cell_type": "code",
   "execution_count": 26,
   "source": [
    "# input()：用于接收输入。\r\n",
    "\t\t\t\t\t\t\t\t# 将分数转化为数字类型\r\n",
    "# try:… except Exception:… 是Python中用于捕获异常的语句，如果try中的语句出现错误，则会执行except中的语句。\r\n",
    "try:\r\n",
    "    score = input(\"请输入你的分数\")\t\t\t\t\t\t# input函数接收输入，为字符串类型\r\n",
    "    score = float(score)\r\n",
    "    if 100>=score>=90:\t\t\t\t\t\t\t\t# 判断输入的值是否大于等级分数\r\n",
    "        print(\"优\")\t\t\t\t\t\t\t\t\t# 满足条件后输出等级\r\n",
    "    elif 90 > score >= 80:\r\n",
    "        print(\"良\")\r\n",
    "    elif 80>score>0:\r\n",
    "        print(\"中\")\r\n",
    "    else:\r\n",
    "        print(\"差\")\r\n",
    "except Exception:\r\n",
    "\tprint(\"请输入正确的分数\")\r\n"
   ],
   "outputs": [
    {
     "output_type": "stream",
     "name": "stdout",
     "text": [
      "请输入你的分数a\n",
      "请输入正确的分数\n"
     ]
    }
   ],
   "metadata": {}
  },
  {
   "cell_type": "code",
   "execution_count": null,
   "source": [
    "#TempConvert.py\r\n",
    "TempStr = input(\"请输入带有符号的温度值：\")\r\n",
    "if TempStr[-1] in ['F','f']:\r\n",
    "    C=(eval(TempStr[0:-1])-32)/1.8\r\n",
    "    print(\"转换后的温度是{:.2f}C\".format(C))\r\n",
    "elif TempStr[-1] in ['C','c']:\r\n",
    "    F=1.8*eval(TempStr[0:-1])+32\r\n",
    "    print(\"转换后的温度是{:.2f}F\".format(F))\r\n",
    "else:\r\n",
    "    print(\"输入格式错误！\")"
   ],
   "outputs": [],
   "metadata": {}
  },
  {
   "cell_type": "markdown",
   "source": [
    "# 循环"
   ],
   "metadata": {}
  },
  {
   "cell_type": "code",
   "execution_count": 27,
   "source": [
    "for i in range(1,10):\t#定义外层循环\r\n",
    "    for j in range(1,i+1):# 定义内层循环\r\n",
    "\t# 字符串的格式化输出，让打印结果进行对齐，end属性设置打印结尾符号默认为/n\r\n",
    "        print(\"%d*%d=%2d\"%(i,j,i*j), end=\" \")# .format()方法\r\n",
    "    print()\r\n"
   ],
   "outputs": [
    {
     "output_type": "stream",
     "name": "stdout",
     "text": [
      "1*1= 1 \n",
      "2*1= 2 2*2= 4 \n",
      "3*1= 3 3*2= 6 3*3= 9 \n",
      "4*1= 4 4*2= 8 4*3=12 4*4=16 \n",
      "5*1= 5 5*2=10 5*3=15 5*4=20 5*5=25 \n",
      "6*1= 6 6*2=12 6*3=18 6*4=24 6*5=30 6*6=36 \n",
      "7*1= 7 7*2=14 7*3=21 7*4=28 7*5=35 7*6=42 7*7=49 \n",
      "8*1= 8 8*2=16 8*3=24 8*4=32 8*5=40 8*6=48 8*7=56 8*8=64 \n",
      "9*1= 9 9*2=18 9*3=27 9*4=36 9*5=45 9*6=54 9*7=63 9*8=72 9*9=81 \n"
     ]
    }
   ],
   "metadata": {}
  },
  {
   "cell_type": "code",
   "execution_count": 29,
   "source": [
    "#while循环\r\n",
    "i = 0\t\t\t\t\t\t\t\t\t\t\t\t# 新建i变量\r\n",
    "while i<9:\t\t\t\t\t\t\t\t\t\t# 设置循环条件\r\n",
    "\ti+=1\t\t\t\t\t\t\t\t\t\t\t# 每次循环i增加1\r\n",
    "\tif i == 3:\t\t\t\t\t\t\t\t\t\t# 判断条件是否满足\r\n",
    "\t\tprint(\"跳出此次循环\")\r\n",
    "\t\tcontinue\t\t\t\t\t\t\t\t\t# continue跳出当前的这一次循环\r\n",
    "\tif i == 5:\r\n",
    "\t\tprint(\"跳出当前大的循环\")\r\n",
    "\t\tbreak\t\t\t\t\t\t\t\t\t\t# 跳出当前的大的循环\r\n",
    "\tprint(i)\r\n"
   ],
   "outputs": [
    {
     "output_type": "stream",
     "name": "stdout",
     "text": [
      "1\n",
      "2\n",
      "跳出此次循环\n",
      "4\n",
      "跳出当前大的循环\n"
     ]
    }
   ],
   "metadata": {}
  },
  {
   "cell_type": "code",
   "execution_count": null,
   "source": [
    "#CalPiV2.py 蒙特卡洛法求解圆周率\r\n",
    "from random import random  \r\n",
    "from time import perf_counter  \r\n",
    "DARTS = 1000*1000\r\n",
    "hits = 0.0\r\n",
    "start = perf_counter()\r\n",
    "for i in range(1, DARTS+1):  \r\n",
    "    x, y = random(), random()\r\n",
    "    dist = pow(x ** 2 + y ** 2, 0.5)\r\n",
    "    if dist <= 1.0:  \r\n",
    "        hits = hits + 1\r\n",
    "    pi = 4 * (hits/DARTS)\r\n",
    "print(\"圆周率值是: {}\".format(pi))\r\n",
    "print(\"运行时间是: {:.5f}s\".format(perf_counter()-start))"
   ],
   "outputs": [],
   "metadata": {}
  },
  {
   "cell_type": "markdown",
   "source": [
    "# 函数"
   ],
   "metadata": {}
  },
  {
   "cell_type": "code",
   "execution_count": 29,
   "source": [
    "def fibs(num):\t\t\t\t\t\t\t\t# 位置参数\r\n",
    "    result = [0,1]\t\t\t\t\t\t\t\t# 新建列表存储数列的值\r\n",
    "    for i in range(2,num):\t\t\t\t\t\t# 循环num-2次\r\n",
    "        a = result[i-1] + result[i-2]\t\t\t\r\n",
    "        result.append(a)\t\t\t\t\t\t# 将值追加至列表\r\n",
    "    return result\t\t\t\t\t\t\t\t# 返回列表\r\n",
    "fibs(5)\r\n"
   ],
   "outputs": [
    {
     "output_type": "execute_result",
     "data": {
      "text/plain": [
       "[0, 1, 1, 2, 3]"
      ]
     },
     "metadata": {},
     "execution_count": 29
    }
   ],
   "metadata": {}
  },
  {
   "cell_type": "code",
   "execution_count": 31,
   "source": [
    "\r\n",
    "def hello(greeting='hello',name='world'):\t\t# 默认参数\r\n",
    "    print('%s, %s!' % (greeting, name))\t\t# 格式化输出\t\r\n",
    "hello() \t\t\t\t\t\t\t# hello，world    默认参数\r\n",
    "hello('Greetings') \t\t\t\t# Greetings，world     位置参数\r\n",
    "hello('Greetings','universe') \t# Greetings，universe     位置参数\r\n",
    "hello(name='Gumby')\t\t\t\t# hello，Gumby\t关键字参数\r\n"
   ],
   "outputs": [
    {
     "output_type": "stream",
     "name": "stdout",
     "text": [
      "hello, world!\n",
      "Greetings, world!\n",
      "Greetings, universe!\n",
      "hello, Gumby!\n"
     ]
    }
   ],
   "metadata": {}
  },
  {
   "cell_type": "markdown",
   "source": [
    "# 对象"
   ],
   "metadata": {}
  },
  {
   "cell_type": "code",
   "execution_count": 32,
   "source": [
    "class Dog():\r\n",
    "\t\"\"\"一次模拟小狗的简单尝试\"\"\"\r\n",
    "\tdef __init__ (self,name,age):\r\n",
    "\t\t\"\"\"初始化属性name和age\"\"\"\r\n",
    "\t\tself.name = name\r\n",
    "\t\tself.age = age\r\n",
    "\tdef sit(self):\r\n",
    "\t\t\"\"\"模拟小狗被命令时蹲下\"\"\"\r\n",
    "\t\tprint(self.name.title()+\"is now sitting\")\r\n",
    "\tdef roll_over(self):\r\n",
    "\t\t\"\"\"模拟小狗被命令时打滚\"\"\"\r\n",
    "\t\tprint(self.name.title()+\"rolled over!\")\r\n",
    "\r\n",
    "dog = Dog(\"哈士奇\",2)\r\n",
    "dog.sit()\r\n",
    "dog.roll_over()"
   ],
   "outputs": [
    {
     "output_type": "stream",
     "name": "stdout",
     "text": [
      "哈士奇is now sitting\n",
      "哈士奇rolled over!\n"
     ]
    }
   ],
   "metadata": {}
  },
  {
   "cell_type": "code",
   "execution_count": 33,
   "source": [
    "class Employee:\n",
    "   '所有员工的基类'\n",
    "   empCount = 0\n",
    "   def __init__(self, name, salary):\n",
    "      self.name = name\n",
    "      self.salary = salary\n",
    "      Employee.empCount += 1  \n",
    "   def displayCount(self):\n",
    "       print(\"Total Employee %d\" % Employee.empCount )\n",
    "   def displayEmployee(self):\n",
    "       print(\"Name : \", self.name,  \", Salary: \", self.salary)\n",
    "# 创建 Employee 类的第一个对象\"\n",
    "emp1 = Employee(\"Zara\", 2000)\n",
    "# 创建 Employee 类的第二个对象\"\n",
    "emp2 = Employee(\"Manni\", 5000)\n",
    "emp1.displayEmployee()\n",
    "emp2.displayEmployee()\n",
    "print(\"Total Employee %d\" % Employee.empCount)\n"
   ],
   "outputs": [
    {
     "output_type": "stream",
     "name": "stdout",
     "text": [
      "Name :  Zara , Salary:  2000\n",
      "Name :  Manni , Salary:  5000\n",
      "Total Employee 2\n"
     ]
    }
   ],
   "metadata": {}
  },
  {
   "cell_type": "code",
   "execution_count": 34,
   "source": [
    "class Parent:        # 定义父类\n",
    "   parentAttr = 100\n",
    "   def __init__(self):\n",
    "       print(\"调用父类构造函数\")\n",
    "   def parentMethod(self):\n",
    "       print('调用父类方法')\n",
    "   def setAttr(self, attr):\n",
    "       Parent.parentAttr = attr\n",
    "   def getAttr(self):\n",
    "       print(\"父类属性 :\", Parent.parentAttr)\n",
    "class Child(Parent): # 定义子类\n",
    "   def __init__(self):\n",
    "       print(\"调用子类构造方法\")\n",
    "   def childMethod(self):\n",
    "       print('调用子类方法')\n",
    "c = Child()          # 实例化子类\n",
    "c.childMethod()      # 调用子类的方法\n",
    "c.parentMethod()     # 调用父类方法\n",
    "c.setAttr(200)       # 再次调用父类的方法 - 设置属性值\n",
    "c.getAttr()     \n"
   ],
   "outputs": [
    {
     "output_type": "stream",
     "name": "stdout",
     "text": [
      "调用子类构造方法\n",
      "调用子类方法\n",
      "调用父类方法\n",
      "父类属性 : 200\n"
     ]
    }
   ],
   "metadata": {}
  },
  {
   "cell_type": "code",
   "execution_count": 35,
   "source": [
    "class JustCounter:\n",
    "    __secretCount = 0  # 私有变量\n",
    "    publicCount = 0    # 公开变量 \n",
    "    def count(self):\n",
    "        self.__secretCount += 1\n",
    "        self.publicCount += 1\n",
    "        print(self.__secretCount)\n",
    "counter = JustCounter()\n",
    "counter.count()\n",
    "counter.count()\n",
    "print(counter.publicCount)\n",
    "print(counter.__secretCount)  # 报错，实例不能访问私有变量\n"
   ],
   "outputs": [
    {
     "output_type": "stream",
     "name": "stdout",
     "text": [
      "1\n",
      "2\n",
      "2\n"
     ]
    },
    {
     "output_type": "error",
     "ename": "AttributeError",
     "evalue": "'JustCounter' object has no attribute '__secretCount'",
     "traceback": [
      "\u001b[1;31m---------------------------------------------------------------------------\u001b[0m",
      "\u001b[1;31mAttributeError\u001b[0m                            Traceback (most recent call last)",
      "\u001b[1;32m<ipython-input-35-da1869ff148c>\u001b[0m in \u001b[0;36m<module>\u001b[1;34m\u001b[0m\n\u001b[0;32m     10\u001b[0m \u001b[0mcounter\u001b[0m\u001b[1;33m.\u001b[0m\u001b[0mcount\u001b[0m\u001b[1;33m(\u001b[0m\u001b[1;33m)\u001b[0m\u001b[1;33m\u001b[0m\u001b[1;33m\u001b[0m\u001b[0m\n\u001b[0;32m     11\u001b[0m \u001b[0mprint\u001b[0m\u001b[1;33m(\u001b[0m\u001b[0mcounter\u001b[0m\u001b[1;33m.\u001b[0m\u001b[0mpublicCount\u001b[0m\u001b[1;33m)\u001b[0m\u001b[1;33m\u001b[0m\u001b[1;33m\u001b[0m\u001b[0m\n\u001b[1;32m---> 12\u001b[1;33m \u001b[0mprint\u001b[0m\u001b[1;33m(\u001b[0m\u001b[0mcounter\u001b[0m\u001b[1;33m.\u001b[0m\u001b[0m__secretCount\u001b[0m\u001b[1;33m)\u001b[0m  \u001b[1;31m# 报错，实例不能访问私有变量\u001b[0m\u001b[1;33m\u001b[0m\u001b[1;33m\u001b[0m\u001b[0m\n\u001b[0m",
      "\u001b[1;31mAttributeError\u001b[0m: 'JustCounter' object has no attribute '__secretCount'"
     ]
    }
   ],
   "metadata": {}
  },
  {
   "cell_type": "markdown",
   "source": [
    "# 标准库 "
   ],
   "metadata": {}
  },
  {
   "cell_type": "markdown",
   "source": [
    "## sys"
   ],
   "metadata": {}
  },
  {
   "cell_type": "code",
   "execution_count": 36,
   "source": [
    "import sys\n",
    "for i in range(100):\n",
    "    print(i)\n",
    "    if i ==5:\n",
    "        sys.exit(0)\n"
   ],
   "outputs": [
    {
     "output_type": "stream",
     "name": "stdout",
     "text": [
      "0\n",
      "1\n",
      "2\n",
      "3\n",
      "4\n",
      "5\n"
     ]
    },
    {
     "output_type": "error",
     "ename": "SystemExit",
     "evalue": "0",
     "traceback": [
      "An exception has occurred, use %tb to see the full traceback.\n",
      "\u001b[1;31mSystemExit\u001b[0m\u001b[1;31m:\u001b[0m 0\n"
     ]
    },
    {
     "output_type": "stream",
     "name": "stderr",
     "text": [
      "D:\\python3.6\\lib\\site-packages\\IPython\\core\\interactiveshell.py:3275: UserWarning: To exit: use 'exit', 'quit', or Ctrl-D.\n",
      "  warn(\"To exit: use 'exit', 'quit', or Ctrl-D.\", stacklevel=1)\n"
     ]
    }
   ],
   "metadata": {}
  },
  {
   "cell_type": "code",
   "execution_count": 37,
   "source": [
    "sys.path"
   ],
   "outputs": [
    {
     "output_type": "execute_result",
     "data": {
      "text/plain": [
       "['D:\\\\python3.6\\\\python36.zip',\n",
       " 'D:\\\\python3.6\\\\DLLs',\n",
       " 'D:\\\\python3.6\\\\lib',\n",
       " 'D:\\\\python3.6',\n",
       " '',\n",
       " 'D:\\\\python3.6\\\\lib\\\\site-packages',\n",
       " 'D:\\\\python3.6\\\\lib\\\\site-packages\\\\IPython\\\\extensions',\n",
       " 'C:\\\\Users\\\\zWX631096\\\\.ipython']"
      ]
     },
     "metadata": {},
     "execution_count": 37
    }
   ],
   "metadata": {}
  },
  {
   "cell_type": "code",
   "execution_count": 38,
   "source": [
    "sys.platform"
   ],
   "outputs": [
    {
     "output_type": "execute_result",
     "data": {
      "text/plain": [
       "'win32'"
      ]
     },
     "metadata": {},
     "execution_count": 38
    }
   ],
   "metadata": {}
  },
  {
   "cell_type": "markdown",
   "source": [
    "## os"
   ],
   "metadata": {}
  },
  {
   "cell_type": "code",
   "execution_count": 39,
   "source": [
    "import os\n",
    "# os.getpid() 获取当前进程id\n",
    "print(\"当前进程的ID：\", os.getpid())\n",
    "\n",
    "# os.getppid():获取当前父进程id\n",
    "print(\"当前父进程的ID：\", os.getppid())\n",
    "\n",
    "# os.getcwd()：获取当前所在路径\n",
    "cwd = os.getcwd()\n",
    "print(\"当前所在路径为：\",cwd)\n",
    "\n",
    "# os.chdir(path)：改变当前工作目录\n",
    "os.chdir(\"C:\\\\\")\n",
    "print(\"修改后当前所在路径为：\", os.getcwd())\n",
    "\n",
    "# os.listdir()：返回目录下所有文件\n",
    "print(\"当前目录下的文件有：\", os.listdir(cwd))\n",
    "\n",
    "# os.walk()：输出当前路径下的所有文件\n",
    "for root, dirs, files in os.walk(cwd, topdown=False):\n",
    "    for name in files:\n",
    "        print(os.path.join(root, name))\n",
    "    for name in dirs:\n",
    "        print(os.path.join(root, name))\n"
   ],
   "outputs": [
    {
     "output_type": "stream",
     "name": "stdout",
     "text": [
      "当前进程的ID： 13304\n",
      "当前父进程的ID： 7984\n",
      "当前所在路径为： D:\\python project\\HCIA - AI实验\n",
      "修改后当前所在路径为： C:\\\n",
      "当前目录下的文件有： ['.ipynb_checkpoints', 'ai.py', 'peiqi.py', 'text.txt', 'Untitled Folder', 'Untitled.ipynb', '语音识别']\n",
      "D:\\python project\\HCIA - AI实验\\.ipynb_checkpoints\\Untitled-checkpoint.ipynb\n",
      "D:\\python project\\HCIA - AI实验\\Untitled Folder\\.ipynb_checkpoints\\Untitled-checkpoint.ipynb\n",
      "D:\\python project\\HCIA - AI实验\\Untitled Folder\\.ipynb_checkpoints\\Untitled1-checkpoint.ipynb\n",
      "D:\\python project\\HCIA - AI实验\\Untitled Folder\\Untitled.ipynb\n",
      "D:\\python project\\HCIA - AI实验\\Untitled Folder\\Untitled1.ipynb\n",
      "D:\\python project\\HCIA - AI实验\\Untitled Folder\\.ipynb_checkpoints\n",
      "D:\\python project\\HCIA - AI实验\\语音识别\\voice_dataset.zip\n",
      "D:\\python project\\HCIA - AI实验\\语音识别\\yuyinchall.py\n",
      "D:\\python project\\HCIA - AI实验\\语音识别\\yuyinutils.py\n",
      "D:\\python project\\HCIA - AI实验\\ai.py\n",
      "D:\\python project\\HCIA - AI实验\\peiqi.py\n",
      "D:\\python project\\HCIA - AI实验\\text.txt\n",
      "D:\\python project\\HCIA - AI实验\\Untitled.ipynb\n",
      "D:\\python project\\HCIA - AI实验\\.ipynb_checkpoints\n",
      "D:\\python project\\HCIA - AI实验\\Untitled Folder\n",
      "D:\\python project\\HCIA - AI实验\\语音识别\n"
     ]
    }
   ],
   "metadata": {}
  },
  {
   "cell_type": "code",
   "execution_count": 1,
   "source": [
    "import os\n",
    "# os.path.abspath(path)：返回绝对路径\n",
    "print(\"text.txt的绝对路径为：\",os.path.abspath(\"text.txt\")) # text.txt 为当前文件夹下的一个文件\n",
    "# os.path.exists(path)：文件存在则返回True,不存在返回False\n",
    "print(\"text.txt是否存在：\",os.path.exists(\"text.txt\")) \n",
    "\n",
    "# os.path.getsize(path)：返回文件大小，如果文件不存在就返回错误\n",
    "print(\"text.txt的文件大小：\",os.path.getsize(\"text.txt\"))\n",
    "\n",
    "# os.path.isfile(path)：判断路径是否为文件\n",
    "print(\"text.txt是否为文件：\",os.path.isfile(\"text.txt\"))\n",
    "\n",
    "# os.path.isdir(path)：判断路径是否为文件夹\n",
    "print(\"text.txt是否为文件夹：\",os.path.isdir(\"text.txt\"))\n"
   ],
   "outputs": [
    {
     "output_type": "stream",
     "name": "stdout",
     "text": [
      "text.txt的绝对路径为： D:\\python project\\HCIA - AI实验\\text.txt\n",
      "text.txt是否存在： True\n",
      "text.txt的文件大小： 4\n",
      "text.txt是否为文件： True\n",
      "text.txt是否为文件夹： False\n"
     ]
    }
   ],
   "metadata": {}
  },
  {
   "cell_type": "markdown",
   "source": [
    "## time"
   ],
   "metadata": {}
  },
  {
   "cell_type": "code",
   "execution_count": 2,
   "source": [
    "import time\n",
    "# time.time():用于获取当前时间戳\n",
    "time_now = time.time()\n",
    "print(\"时间戳：\",time_now)\n",
    "\n",
    "# time.localtime()：获取时间元组\n",
    "localtime = time.localtime(time_now)\n",
    "print(\"本地时间为 :\", localtime)\n",
    "\n",
    "# time.asctime()：获取格式化的时间\n",
    "localtime = time.asctime(localtime)\n",
    "print(\"本地时间为 :\", localtime)\n",
    "\n",
    "#time.strftime(format[, t])：接收时间元组，并返回以可读字符串表示的当地时间，格式由参数format决定。\n",
    "print(time.strftime(\"%Y-%m-%d %H:%M:%S\", time.localtime()))\n"
   ],
   "outputs": [
    {
     "output_type": "stream",
     "name": "stdout",
     "text": [
      "时间戳： 1557125814.1791873\n",
      "本地时间为 : time.struct_time(tm_year=2019, tm_mon=5, tm_mday=6, tm_hour=14, tm_min=56, tm_sec=54, tm_wday=0, tm_yday=126, tm_isdst=0)\n",
      "本地时间为 : Mon May  6 14:56:54 2019\n",
      "2019-05-06 14:56:54\n"
     ]
    }
   ],
   "metadata": {}
  },
  {
   "cell_type": "markdown",
   "source": [
    "# IO"
   ],
   "metadata": {}
  },
  {
   "cell_type": "code",
   "execution_count": 3,
   "source": [
    "f = open(\"text.txt\", 'w') # 打开文件text.txt，当文件不存在时会新建一个。\n",
    "Str = input(\"请输入要写入的内容：\")\n",
    "f.write(Str)\n",
    "f.close()\n"
   ],
   "outputs": [
    {
     "output_type": "stream",
     "name": "stdout",
     "text": [
      "请输入要写入的内容：Python文件操作\n"
     ]
    }
   ],
   "metadata": {}
  },
  {
   "cell_type": "code",
   "execution_count": 4,
   "source": [
    "f = open(\"text.txt\", 'r')\n",
    "print(f.read(6))\t# 读取六个字符，当前光标后移六个字符\n",
    "print(f.read())\t# 读取光标所在位置至最后\n",
    "f.close()\n"
   ],
   "outputs": [
    {
     "output_type": "stream",
     "name": "stdout",
     "text": [
      "Python\n",
      "文件操作\n"
     ]
    }
   ],
   "metadata": {}
  },
  {
   "cell_type": "code",
   "execution_count": 6,
   "source": [
    "with open(\"text1.txt\", 'w') as f:\n",
    "    f.write(\"python文件操作\")\n",
    "# 使用with语句读取文件内容\n",
    "with open(\"text1.txt\", 'r') as f:\n",
    "    print(f.read())\n"
   ],
   "outputs": [
    {
     "output_type": "stream",
     "name": "stdout",
     "text": [
      "python文件操作\n"
     ]
    }
   ],
   "metadata": {}
  },
  {
   "cell_type": "code",
   "execution_count": 7,
   "source": [
    "import os\n",
    "os.rename(\"text.txt\",\"text0.txt\")\t# 文件重命名\n",
    "os.remove(\"text1.txt\")\t# 删除文件\n"
   ],
   "outputs": [],
   "metadata": {}
  },
  {
   "cell_type": "markdown",
   "source": [
    "# Python高级"
   ],
   "metadata": {}
  },
  {
   "cell_type": "markdown",
   "source": [
    "## 数据库操作"
   ],
   "metadata": {}
  },
  {
   "cell_type": "code",
   "execution_count": 9,
   "source": [
    "import pymysql\n",
    "# 打开数据库连接\n",
    "db = pymysql.connect(\"localhost\", \"root\", \"mysql\", \"my_database\", charset='utf8' )\n",
    "# localhost：本地连接，也可以换成数据库所在的ip地址\n",
    "# root：mysql数据库的账户；mysql：数据库密码\n",
    "# my_database：要连接的数据库名称\n",
    "# 使用cursor()方法获取操作游标\n",
    "cursor = db.cursor()\n",
    "# 使用execute方法执行SQL语句\n",
    "cursor.execute(\"SELECT VERSION()\")\n",
    "# 使用 fetchone() 方法获取一条数据\n",
    "data = cursor.fetchone()\n",
    "print(\"Database version : %s \" % data)\n"
   ],
   "outputs": [
    {
     "output_type": "stream",
     "name": "stdout",
     "text": [
      "Database version : 8.0.15 \n"
     ]
    }
   ],
   "metadata": {}
  },
  {
   "cell_type": "code",
   "execution_count": null,
   "source": [
    "db = pymysql.connect(\"localhost\", \"root\", \"mysql\", \"my_database\", charset='utf8' )\n",
    "# 使用cursor()方法获取操作游标\n",
    "cursor = db.cursor()\n",
    "# 创建数据表SQL语句\n",
    "sql = \"\"\"CREATE TABLE my_table (\n",
    "         id int,\n",
    "          name varchar(50))\"\"\"\n",
    "# 执行\n",
    "cursor.execute(sql)\n"
   ],
   "outputs": [],
   "metadata": {}
  },
  {
   "cell_type": "code",
   "execution_count": null,
   "source": [
    "import pymysql\n",
    "\n",
    "# 打开数据库连接\n",
    "db = pymysql.connect(\"localhost\", \"root\", \"mysql\", \"my_database\", charset='utf8' )\n",
    "# 使用cursor()方法获取操作游标\n",
    "cursor = db.cursor()\n",
    "\n",
    "# SQL 插入语句\n",
    "sql = \"\"\"INSERT INTO my_table(id,\n",
    "         name)\n",
    "         VALUES (1,'张三')\"\"\"\t# 删除、修改等操作只需要修改执行的SQL语句即可\n",
    "try:\n",
    "   # 执行sql语句\n",
    "   cursor.execute(sql)\n",
    "   # 提交到数据库执行\n",
    "   db.commit()\n",
    "except:\n",
    "   # 发生错误时回滚\n",
    "   db.rollback()\n",
    "\n",
    "# 关闭数据库连接\n",
    "db.close()"
   ],
   "outputs": [],
   "metadata": {}
  },
  {
   "cell_type": "markdown",
   "source": [
    "## 多线程"
   ],
   "metadata": {}
  },
  {
   "cell_type": "code",
   "execution_count": 10,
   "source": [
    "import threading\n",
    "from time import sleep,ctime\n",
    "def work1():\n",
    "    for i in range(3):\n",
    "        print(\"work1正在执行...%d\"%i)\n",
    "        sleep(1)\n",
    "\n",
    "def work2():\n",
    "    for i in range(3):\n",
    "        print(\"work2正在执行...%d\"%i)\n",
    "        sleep(1)\n",
    "\n",
    "if __name__ == '__main__':\n",
    "    print('---开始---:%s'%ctime())\n",
    "\n",
    "    t1 = threading.Thread(target=work1)# 线程1\n",
    "    t2 = threading.Thread(target=work2)# 线程2\n",
    "\t\t# 启动线程\n",
    "    t1.start()\n",
    "    t2.start()\n",
    "\n",
    "    sleep(5)\n",
    "print('---结束---:%s'%ctime())\n"
   ],
   "outputs": [
    {
     "output_type": "stream",
     "name": "stdout",
     "text": [
      "---开始---:Mon May  6 15:01:21 2019\n",
      "work1正在执行...0\n",
      "work2正在执行...0\n",
      "work1正在执行...1\n",
      "work2正在执行...1\n",
      "work1正在执行...2\n",
      "work2正在执行...2\n",
      "---结束---:Mon May  6 15:01:26 2019\n"
     ]
    }
   ],
   "metadata": {}
  },
  {
   "cell_type": "code",
   "execution_count": 12,
   "source": [
    "g_num = 0\n",
    "def test1(num):\n",
    "    global g_num\t# 使用全局变量\n",
    "    for i in range(num):\n",
    "        mutex.acquire()  # 上锁\n",
    "        g_num += 1\n",
    "        mutex.release()  # 解锁\n",
    "    print(\"---test1---g_num=%d\"%g_num)\n",
    "\n",
    "def test2(num):\n",
    "    global g_num\n",
    "    for i in range(num):\n",
    "        mutex.acquire()  # 上锁\n",
    "        g_num += 1\n",
    "        mutex.release()  # 解锁\n",
    "\n",
    "    print(\"---test2---g_num=%d\"%g_num)\n",
    "\n",
    "# 创建一个互斥锁\n",
    "# 默认是未上锁的状态，可以删除锁后查看资源争夺的结果\n",
    "mutex = threading.Lock()\n",
    "\n",
    "# 创建2个线程，让他们各自对g_num加1000000次\n",
    "p1 = threading.Thread(target=test1, args=(1000000,))\n",
    "p1.start()\n",
    "\n",
    "p2 = threading.Thread(target=test2, args=(1000000,))\n",
    "p2.start()\n",
    "\n",
    "# 等待计算完成\n",
    "time.sleep(5)\n",
    "\n",
    "print(\"2个线程对同一个全局变量操作之后的最终结果是:%s\" % g_num)\n"
   ],
   "outputs": [
    {
     "output_type": "stream",
     "name": "stdout",
     "text": [
      "---test2---g_num=1963943---test1---g_num=2000000\n",
      "\n",
      "2个线程对同一个全局变量操作之后的最终结果是:2000000\n"
     ]
    }
   ],
   "metadata": {}
  },
  {
   "cell_type": "markdown",
   "source": [
    "## 多进程"
   ],
   "metadata": {}
  },
  {
   "cell_type": "code",
   "execution_count": 13,
   "source": [
    "from multiprocessing import Process\n",
    "import os\n",
    "import time\n",
    "\n",
    "nums = [11, 22]\n",
    "\n",
    "def work1():\n",
    "    \"\"\"子进程要执行的代码\"\"\"\n",
    "    print(\"in process1 pid=%d ,nums=%s\" % (os.getpid(), nums))# 获取进程号\n",
    "    for i in range(3):\n",
    "        nums.append(i)\n",
    "        time.sleep(1)\n",
    "        print(\"in process1 pid=%d ,nums=%s\" % (os.getpid(), nums))\n",
    "\n",
    "def work2():\n",
    "    \"\"\"子进程要执行的代码\"\"\"\n",
    "    print(\"in process2 pid=%d ,nums=%s\" % (os.getpid(), nums))\n",
    "\n",
    "if __name__ == '__main__':\n",
    "    p1 = Process(target=work1)\n",
    "    p1.start()\n",
    "    p1.join()\n",
    "\n",
    "    p2 = Process(target=work2)\n",
    "    p2.start()\n"
   ],
   "outputs": [],
   "metadata": {}
  },
  {
   "cell_type": "markdown",
   "source": [
    "## 迭代器"
   ],
   "metadata": {}
  },
  {
   "cell_type": "code",
   "execution_count": 14,
   "source": [
    "from collections import Iterable\t# 可迭代对象\n",
    "print(isinstance([], Iterable))\n",
    "print(isinstance('abc', Iterable))\n",
    "print(isinstance(100, Iterable))\n"
   ],
   "outputs": [
    {
     "output_type": "stream",
     "name": "stdout",
     "text": [
      "True\n",
      "True\n",
      "False\n"
     ]
    }
   ],
   "metadata": {}
  },
  {
   "cell_type": "code",
   "execution_count": 15,
   "source": [
    "l = [1, 2, 3, 4, 5]\n",
    "l_iter = iter(l)\n",
    "next(l_iter)\n",
    "\n",
    "next(l_iter)"
   ],
   "outputs": [
    {
     "output_type": "execute_result",
     "data": {
      "text/plain": [
       "2"
      ]
     },
     "metadata": {},
     "execution_count": 15
    }
   ],
   "metadata": {}
  },
  {
   "cell_type": "code",
   "execution_count": 16,
   "source": [
    "from collections import Iterator # 迭代器\n",
    "print(isinstance([], Iterator))\n",
    "print(isinstance(iter([]), Iterator))"
   ],
   "outputs": [
    {
     "output_type": "stream",
     "name": "stdout",
     "text": [
      "False\n",
      "True\n"
     ]
    }
   ],
   "metadata": {}
  },
  {
   "cell_type": "markdown",
   "source": [
    "## 生成器"
   ],
   "metadata": {}
  },
  {
   "cell_type": "code",
   "execution_count": 17,
   "source": [
    "G = ( x*2 for x in range(5))\n",
    "print(type(G))\n"
   ],
   "outputs": [
    {
     "output_type": "stream",
     "name": "stdout",
     "text": [
      "<class 'generator'>\n"
     ]
    }
   ],
   "metadata": {}
  },
  {
   "cell_type": "code",
   "execution_count": 18,
   "source": [
    "def fib(n):\n",
    "    current = 0\n",
    "    num1, num2 = 0, 1\n",
    "    while current < n:\n",
    "        num = num1\n",
    "        num1, num2 = num2, num1+num2\n",
    "        current += 1\n",
    "        yield num\n",
    "    return 'done'\n",
    "g=fib(5)\n",
    "while True:\n",
    "    try:\n",
    "        x = next(g)\n",
    "        print(\"value:%d\"%x)      \n",
    "    except StopIteration as e:\n",
    "        print(\"生成器返回值:%s\"%e.value)\n",
    "        break\n"
   ],
   "outputs": [
    {
     "output_type": "stream",
     "name": "stdout",
     "text": [
      "value:0\n",
      "value:1\n",
      "value:1\n",
      "value:2\n",
      "value:3\n",
      "生成器返回值:done\n"
     ]
    }
   ],
   "metadata": {}
  },
  {
   "cell_type": "code",
   "execution_count": 19,
   "source": [
    "def gen():\n",
    "    i = 0\n",
    "    while i<5:\n",
    "        temp = yield i\n",
    "        print(temp)\n",
    "        i+=1\n",
    "f = gen()\n",
    "next(f)\n"
   ],
   "outputs": [
    {
     "output_type": "execute_result",
     "data": {
      "text/plain": [
       "0"
      ]
     },
     "metadata": {},
     "execution_count": 19
    }
   ],
   "metadata": {}
  },
  {
   "cell_type": "code",
   "execution_count": 20,
   "source": [
    "f.send('haha')"
   ],
   "outputs": [
    {
     "output_type": "stream",
     "name": "stdout",
     "text": [
      "haha\n"
     ]
    },
    {
     "output_type": "execute_result",
     "data": {
      "text/plain": [
       "1"
      ]
     },
     "metadata": {},
     "execution_count": 20
    }
   ],
   "metadata": {}
  },
  {
   "cell_type": "code",
   "execution_count": 21,
   "source": [
    "next(f)"
   ],
   "outputs": [
    {
     "output_type": "stream",
     "name": "stdout",
     "text": [
      "None\n"
     ]
    },
    {
     "output_type": "execute_result",
     "data": {
      "text/plain": [
       "2"
      ]
     },
     "metadata": {},
     "execution_count": 21
    }
   ],
   "metadata": {}
  },
  {
   "cell_type": "markdown",
   "source": [
    "## 装饰器"
   ],
   "metadata": {}
  },
  {
   "cell_type": "code",
   "execution_count": 23,
   "source": [
    "import time\n",
    "def func(f):\n",
    "    def inner(*args, **kwargs):\n",
    "        start_time = time.time()\n",
    "        f(*args, **kwargs)\n",
    "        end_time = time.time()\n",
    "        print('耗时：%s秒' % (end_time - start_time))\n",
    "    return inner\n"
   ],
   "outputs": [],
   "metadata": {}
  },
  {
   "cell_type": "code",
   "execution_count": 24,
   "source": [
    "@func\n",
    "def test():\n",
    "    time.sleep(2)\n",
    "\n",
    "test()\n"
   ],
   "outputs": [
    {
     "output_type": "stream",
     "name": "stdout",
     "text": [
      "耗时：2.0006320476531982秒\n"
     ]
    }
   ],
   "metadata": {}
  },
  {
   "cell_type": "markdown",
   "source": [
    "## 正则表达式"
   ],
   "metadata": {}
  },
  {
   "cell_type": "code",
   "execution_count": 25,
   "source": [
    "import re\n",
    "print(re.match('www', 'www.huawei.com').span())  # 在起始位置匹配\n",
    "print(re.match('com', 'www.huawei.com'))        \t# 不在起始位置匹配\n"
   ],
   "outputs": [
    {
     "output_type": "stream",
     "name": "stdout",
     "text": [
      "(0, 3)\n",
      "None\n"
     ]
    }
   ],
   "metadata": {}
  },
  {
   "cell_type": "code",
   "execution_count": 26,
   "source": [
    "import re\n",
    "line = \"Cats are smarter than dogs\"\n",
    "searchObj = re.search( r'(.*) are (.*?) .*', line, re.M|re.I)\n",
    "if searchObj:\n",
    "    print(\"searchObj.group() : \", searchObj.group())\n",
    "    print(\"searchObj.group(1) : \", searchObj.group(1))\n",
    "    print(\"searchObj.group(2) : \", searchObj.group(2))\n",
    "else:\n",
    "    print(\"Nothing found!!\" )\n"
   ],
   "outputs": [
    {
     "output_type": "stream",
     "name": "stdout",
     "text": [
      "searchObj.group() :  Cats are smarter than dogs\n",
      "searchObj.group(1) :  Cats\n",
      "searchObj.group(2) :  smarter\n"
     ]
    }
   ],
   "metadata": {}
  },
  {
   "cell_type": "code",
   "execution_count": 27,
   "source": [
    "import re \n",
    "phone = \"2019-0101-000 # 这是一个电话号码\"\n",
    "# 删除字符串中的 Python注释 \n",
    "num = re.sub(r'#.*$', \"\", phone)\n",
    "print(\"电话号码是: \", num)\n",
    "# 删除非数字(-)的字符串 \n",
    "num = re.sub(r'\\D', \"\", phone)\n",
    "print(\"电话号码是 : \", num)\n"
   ],
   "outputs": [
    {
     "output_type": "stream",
     "name": "stdout",
     "text": [
      "电话号码是:  2019-0101-000 \n",
      "电话号码是 :  20190101000\n"
     ]
    }
   ],
   "metadata": {}
  },
  {
   "cell_type": "code",
   "execution_count": 28,
   "source": [
    "import re\n",
    "pattern = re.compile(r'\\d+')                    # 用于匹配至少一个数字\n",
    "n = pattern.match('one12twothree34four')        # 查找头部，没有匹配\n",
    "print(n)\n",
    "\n",
    "m = pattern.search('one12twothree34four') # 从'e'的位置开始匹配，没有匹配\n",
    "print(m)\n",
    "print(m.group())\n"
   ],
   "outputs": [
    {
     "output_type": "stream",
     "name": "stdout",
     "text": [
      "None\n",
      "<_sre.SRE_Match object; span=(3, 5), match='12'>\n",
      "12\n"
     ]
    }
   ],
   "metadata": {}
  },
  {
   "cell_type": "code",
   "execution_count": 29,
   "source": [
    "import re\n",
    "s = re.split('\\W+', 'www.huawei.com')\n",
    "print(s)\n"
   ],
   "outputs": [
    {
     "output_type": "stream",
     "name": "stdout",
     "text": [
      "['www', 'huawei', 'com']\n"
     ]
    }
   ],
   "metadata": {}
  },
  {
   "cell_type": "code",
   "execution_count": null,
   "source": [],
   "outputs": [],
   "metadata": {}
  }
 ],
 "metadata": {
  "kernelspec": {
   "display_name": "Python 3",
   "language": "python",
   "name": "python3"
  },
  "language_info": {
   "codemirror_mode": {
    "name": "ipython",
    "version": 3
   },
   "file_extension": ".py",
   "mimetype": "text/x-python",
   "name": "python",
   "nbconvert_exporter": "python",
   "pygments_lexer": "ipython3",
   "version": "3.7.3"
  }
 },
 "nbformat": 4,
 "nbformat_minor": 2
}